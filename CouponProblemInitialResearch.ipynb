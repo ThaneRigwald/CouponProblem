{
 "cells": [
  {
   "cell_type": "markdown",
   "metadata": {},
   "source": [
    "# The Coupons Collector Problem"
   ]
  },
  {
   "cell_type": "code",
   "execution_count": 1,
   "metadata": {},
   "outputs": [],
   "source": [
    "import numpy as np\n",
    "import pandas as pd\n",
    "import matplotlib.pyplot as plt\n",
    "np.random.seed(20180117) # Set seed for script RNG"
   ]
  },
  {
   "cell_type": "code",
   "execution_count": 2,
   "metadata": {},
   "outputs": [],
   "source": [
    "# Notebook parameters\n",
    "C = 5 # Number of coupons\n",
    "T = 100000 # Number of trials\n",
    "maxC = 26 # Max number of coupons for loops"
   ]
  },
  {
   "cell_type": "markdown",
   "metadata": {},
   "source": [
    "Imagine that boxes of cereals contains each one coupon with face value $1$ to $C$ distributed uniformly at random. You will be eligible for a prize if you collect a full set of coupons $\\{1,2,\\cdots,C\\}$. On average how many boxes of cereals must you open to collect a full set of coupons?"
   ]
  },
  {
   "cell_type": "markdown",
   "metadata": {},
   "source": [
    "Let us first approach this question expermimentally. For a fixed number of coupons $C$ we can run one trial to collect a full set by keeping track of how many coupons of each value we have collected and continue to generate new boxes until we have collected at least one of each coupon. \n",
    "\n",
    "The run_trial function below will does this and returns how many boxes were necessary to complete our collection on this trial."
   ]
  },
  {
   "cell_type": "code",
   "execution_count": 3,
   "metadata": {},
   "outputs": [],
   "source": [
    "def run_trial(_couponCount):\n",
    "    \"\"\" One attempt at collecting a set of coupons\n",
    "    \n",
    "    Generates one new coupons between 0 and _couponCount - 1 until a full set is discovered.\n",
    "    \n",
    "    Args:\n",
    "        _couponCount: integer, number of coupons that need to be collected for a full set\n",
    "    \n",
    "    Returns:\n",
    "        boxCount: integer, the number of boxes it took to collect a full set of coupons\n",
    "    \n",
    "    \"\"\"\n",
    "    couponsDist = np.zeros(_couponCount)\n",
    "    boxCount = 0\n",
    "    while np.prod(couponsDist) == 0:\n",
    "                newCoupon = np.random.randint(low = 0, high = _couponCount)\n",
    "                couponsDist[newCoupon] += 1\n",
    "                boxCount += 1\n",
    "    return boxCount;"
   ]
  },
  {
   "cell_type": "markdown",
   "metadata": {},
   "source": [
    "The next step is to run many trials and collect the distribution of the number of boxes it took to complete our collection on each trial.\n",
    "\n",
    "The run_sample function below does this."
   ]
  },
  {
   "cell_type": "code",
   "execution_count": 4,
   "metadata": {},
   "outputs": [],
   "source": [
    "def run_sample(_trialsCount, _couponCount):\n",
    "    \"\"\" Runs several trials to collect a set of coupons\n",
    "    \n",
    "    Runs the run_trial functions a fixed number of times and collect the number of boxes after which a full set was collected for each trial.\n",
    "    \n",
    "    Args:\n",
    "        _trialsCount: integer, number of trials.\n",
    "        _couponCount: integer, number of coupons that need to be collected for a full set.\n",
    "        \n",
    "    Returns:\n",
    "        boxCountList: list of integers, each element is the number of boxes it took to collect a full set of coupons in a trial.\n",
    "    \n",
    "    \"\"\"\n",
    "    boxCountList = []\n",
    "    for i in range(_trialsCount):\n",
    "        boxCountList.append(run_trial(_couponCount))\n",
    "    return boxCountList;"
   ]
  },
  {
   "cell_type": "markdown",
   "metadata": {},
   "source": [
    "We can run such a series of trials for $C = 5$ and plot the distribution of the number of boxes needed to complete the coupons collection on each trial."
   ]
  },
  {
   "cell_type": "code",
   "execution_count": 5,
   "metadata": {},
   "outputs": [
    {
     "data": {
      "image/png": "[encoded data removed]",
      "text/plain": [
       "<matplotlib.figure.Figure at 0x7f3c54b3a190>"
      ]
     },
     "metadata": {},
     "output_type": "display_data"
    }
   ],
   "source": [
    "boxCountExample = run_sample(1000000, 5) # Running 10^6 trials for 5 coupons\n",
    "\n",
    "plt.title(\"Distribution of boxes for prize collection\")\n",
    "plt.hist(boxCountExample, bins = range(np.max(boxCountExample)), range = (0, np.max(boxCountExample)))\n",
    "plt.axvline(x = np.mean(boxCountExample), color = 'r')\n",
    "plt.text(x = np.mean(boxCountExample) + 5, y = 80000, s = \"Average number of boxes {:.2f}\".format(np.mean(boxCountExample)), rotation=0, verticalalignment='center', color = 'r')\n",
    "plt.show()"
   ]
  },
  {
   "cell_type": "markdown",
   "metadata": {},
   "source": [
    "In the case of $5$ coupons we see that it should take approximately $11$ boxes to complete a full set."
   ]
  },
  {
   "cell_type": "markdown",
   "metadata": {},
   "source": [
    "We can repeat this process to estimate the average number of boxes necessary to collect a full set of coupons for any $C$. The function get_avgs computes those estimations for up to a maximum number of coupons."
   ]
  },
  {
   "cell_type": "code",
   "execution_count": 6,
   "metadata": {},
   "outputs": [],
   "source": [
    "def get_avgs(_trialsCount, _maxCouponCount):\n",
    "    \"\"\" Average number of boxes it takes to complete a coupon set\n",
    "    \n",
    "    For each number of coupons calcuates the average number of boxes it took to complete a coupon set.\n",
    "    \n",
    "    Args:\n",
    "        _trialsCount: integer, number of trials.\n",
    "        _maxCouponCount: integer, will compute averages for all coupon sets up to _maxCouponCount - 1.\n",
    "        \n",
    "    Returns:\n",
    "        avgBoxCountList: list of integers, item i is the average number of boxes it took to complete a set of i coupons.\n",
    "    \n",
    "    \"\"\"\n",
    "    avgBoxCountList = []\n",
    "    for c in range(_maxCouponCount):\n",
    "        avgBoxCountList.append(np.mean(run_sample(_trialsCount, c)))\n",
    "    return avgBoxCountList;"
   ]
  },
  {
   "cell_type": "markdown",
   "metadata": {},
   "source": [
    "Here we compute the first few of these averages."
   ]
  },
  {
   "cell_type": "code",
   "execution_count": 7,
   "metadata": {},
   "outputs": [
    {
     "name": "stdout",
     "output_type": "stream",
     "text": [
      "    Coupons  Avg_boxes\n",
      "0         0    0.00000\n",
      "1         1    1.00000\n",
      "2         2    2.98684\n",
      "3         3    5.49414\n",
      "4         4    8.33842\n",
      "5         5   11.44383\n",
      "6         6   14.66514\n",
      "7         7   18.16179\n",
      "8         8   21.71745\n",
      "9         9   25.44459\n",
      "10       10   29.35482\n",
      "11       11   33.23557\n",
      "12       12   37.29436\n",
      "13       13   41.30725\n",
      "14       14   45.42733\n",
      "15       15   49.80491\n",
      "16       16   54.03433\n",
      "17       17   58.39051\n",
      "18       18   62.96353\n",
      "19       19   67.44913\n",
      "20       20   72.00836\n",
      "21       21   76.55545\n",
      "22       22   81.33431\n",
      "23       23   85.88256\n",
      "24       24   90.60144\n",
      "25       25   95.59433\n"
     ]
    },
    {
     "data": {
      "image/png": "[encoded data removed]",
      "text/plain": [
       "<matplotlib.figure.Figure at 0x7f3c548e5110>"
      ]
     },
     "metadata": {},
     "output_type": "display_data"
    }
   ],
   "source": [
    "result = get_avgs(T, maxC) # Compute those averages for up to 25 coupons.\n",
    "resultDict = {'Coupons': range(maxC), 'Avg_boxes': result}\n",
    "resultDf = pd.DataFrame(resultDict, columns = ['Coupons', 'Avg_boxes']) # Compile the result in a DataFrame\n",
    "print resultDf\n",
    "\n",
    "plt.xlabel('Number of coupons')\n",
    "plt.ylabel('Average number of boxes')\n",
    "plt.title('Average number of boxes to collect a full set of coupons')\n",
    "plt.plot(range(maxC), result, 'r^')\n",
    "plt.grid(True)\n",
    "plt.show()"
   ]
  },
  {
   "cell_type": "markdown",
   "metadata": {},
   "source": [
    "So we can solve this question computationally, now let us look at this problem from a combinatorial perspective.\n",
    "\n",
    "Let $B_{C}$ be the random variable representing the number of boxes needed to collect a set of $C$ coupons. Then our problem is to evaluate its expected value $\\mathbb{E}(B_{C})$ which is defined as\n",
    "\n",
    "$$\n",
    "\\mathbb{E}(B_{C}) = \\sum_{n = 0}^{+\\infty} \\, p_{n}(C) \\, n \n",
    "$$\n",
    "\n",
    "where $p_{n}(C)$ is the probability that it takes exactly $n$ boxes to collect the full set of coupons. One way of writting $p_{n}(C)$ is as the probability that $n-1$ boxes has a single missing coupon from the collection multiplied by the probability that the new n-th box has the missing coupon. The latter is simply $1/C$ and we want to compute the former."
   ]
  },
  {
   "cell_type": "markdown",
   "metadata": {},
   "source": [
    "Take the simplest non-trivial case of $C = 2$. First of all, $p_{n}(C)$ must be equal to zero for every $n < C$ and we can start counting at $n = 2$. \n",
    "\n",
    "The possible sequences of collected coupons of length $1$ are $\\{\\color{red}{(1)}, \\color{red}{(2)}\\}$ thus following our strategy $p_2(2) = \\frac{2}{2}\\times\\frac{1}{2}$ which is expected. \n",
    "\n",
    "Next let us move on to $n = 3$. The possible sequences of collected coupons of length $2$ are $\\{\\color{red}{(1,1)}, \\color{red}{(2,2)}, (1,2), (2,1) \\}$ and $p_{3}(2) = \\frac{2}{4}\\times\\frac{1}{2}$.\n",
    "\n",
    "For $n = 4$ the possible sequences of collected coupons of length $3$ are $\\{\\color{red}{(1,1,1)}, \\color{red}{(2,2,2)}, (1,1,2), (1,2,1), (2,1,1), (1,2,2), (2,1,2), (2,2,1)\\}$. That means $p_{4}(2) = \\frac{2}{8}\\times\\frac{1}{2}$.\n",
    "\n",
    "At this point we observe that the only sequences of collected coupons of length $n-1$ that do not contain a complete set of coupons already are $(1,1,\\cdots,1)$ and $(2,2,\\cdots,2)$ out of the $2^{n-1}$ possible combinations. That means in general one can write $p_{n}(2) = \\frac{2}{2^{n-1}}\\times\\frac{1}{2}$ and we get:\n",
    "\n",
    "$$\n",
    "\\mathbb{E}(B_{2}) = \\sum_{n = 2}^{+\\infty} \\, \\frac{2}{2^{n-1}} \\, \\frac{1}{2} \\, n \\,.\n",
    "$$\n",
    "\n",
    "Since $\\frac{n}{2^n} \\leq (\\frac{1}{2})^n$ for $n$ large enough then this series is convergent. And we can evaluate its sum numerically as:"
   ]
  },
  {
   "cell_type": "code",
   "execution_count": 8,
   "metadata": {},
   "outputs": [],
   "source": [
    "# Some code for numerical evaluation of the power series."
   ]
  },
  {
   "cell_type": "markdown",
   "metadata": {},
   "source": [
    "Next stop is to look at $C = 3$. For $n = 3$ the possible sequences of length $2$ are $\\{(1,1), (2,2), (3,3), \\color{red}{(1,2)}, \\color{red}{(1,3)}, \\color{red}{(2,1)}, \\color{red}{(2,3)}, \\color{red}{(3,1)}, \\color{red}{(3,2)}\\}$ which means that $p_{3}(3) = \\frac{6}{9} \\times \\frac{1}{3}$.\n",
    "\n",
    "For $n = 4$ the set of all possible sequences of length $3$ is:\n",
    "\n",
    "$\\{(1,1,1), (2,2,2), (3,3,3), (1,2,3), (2,1,3), (2,3,1), (3,2,1), (1,3,2), (3,1,2), \\color{red}{(1,1,2)}, \\color{red}{(1,2,1)}, \\color{red}{(2,1,1)}, \\color{red}{(2,2,1)}, \\color{red}{(2,1,2)}, \\color{red}{(1,2,2)}, \\color{red}{(1,1,3)}, \\color{red}{(1,3,1)}, \\color{red}{(3,1,1)}, \\color{red}{(3,3,1)}, \\color{red}{(3,1,3)}, \\color{red}{(1,3,3)}, \\color{red}{(2,2,3)}, \\color{red}{(2,3,2)}, \\color{red}{(3,2,2)}, \\color{red}{(3,3,2)}, \\color{red}{(3,2,3)}, \\color{red}{(2,3,3)},\\} $.\n",
    "\n",
    "Thus we find that $p_{4}(3) = \\frac{18}{27} \\times \\frac{1}{3}$. At this point we realize that to construct a sequence of elements with length $n-1$ containing exactly $2$ coupons we must pick $2$ coupons, build all sequences of length $n-1$ with those coupons while removing the cases build with only one coupon. That translates into:\n",
    "\n",
    "$$\n",
    "p_{n}(3) = \\frac{{3 \\choose 2} (2^{n-1} - 2)}{3^{n-1}} \\times \\frac{1}{3} \\,.\n",
    "$$\n",
    "\n",
    "As a result the average number of boxes needed to collect a set of $3$ coupons can be written as:\n",
    "\n",
    "$$\n",
    "\\mathbb{E}(B_{3}) = \\sum_{n = 3}^{+\\infty} \\, \\frac{(2^{n-1} - 2)}{3^{n-1}} \\, n  \\,.\n",
    "$$\n",
    "\n",
    "With $n\\,(\\frac{2}{3})^n \\leq (\\frac{2}{3})^n$ for $n$ large enough this series is convergent and we can evaluate its sum numerically:"
   ]
  },
  {
   "cell_type": "code",
   "execution_count": 9,
   "metadata": {},
   "outputs": [],
   "source": [
    "# Some code for numerical evaluation of the power series."
   ]
  },
  {
   "cell_type": "markdown",
   "metadata": {},
   "source": [
    "$\\bf{Theorem}$: For $C$ coupons, the average number of boxes necessary to collect a full set of coupons is given by the convergent power series\n",
    "\n",
    "$$\n",
    "\\mathbb{E}(B_{C}) = \\sum_{n = C}^{+\\infty} \\, n \\, \\frac{(C^{n-1} - C + 1)}{C^{n-1}} \\,.\n",
    "$$\n",
    "\n",
    "$\\it{Proof}$: From the above discussion we can derive an expression for the general term of the power series. To construst a sequence of elements with length $n-1$ containing exactly $C-1$ coupons we must pick $C-1$ coupon and build all sequences of length $n-1$ with those coupons while removing the diagonal cases. There are ${C \\choose C-1}[(C-1)^{n-1} - (C-1)]$ such sequences which gives:\n",
    "\n",
    "$$\n",
    "p_{n}(C) = \\frac{{C \\choose C-1}[(C-1)^{n-1} - (C-1)]}{C^{n-1}} \\, \\frac{1}{C}.\n",
    "$$\n",
    "\n",
    "The general term of the series representing the average number of boxes necessary to collect a set of $C$ coupons simplifies to:\n",
    "\n",
    "$$\n",
    "n \\, \\frac{(C-1)^{n-1}-C+1}{C^{n-1}} \\,\n",
    "$$\n",
    "\n",
    "which is bounded by the geometric term $(\\frac{C-1}{C})^n$ for $n$ large enough giving us the convergence of the series. $\\blacksquare$"
   ]
  }
 ],
 "metadata": {
  "kernelspec": {
   "display_name": "Python 3",
   "language": "python",
   "name": "python3"
  },
  "language_info": {
   "codemirror_mode": {
    "name": "ipython",
    "version": 2
   },
   "file_extension": ".py",
   "mimetype": "text/x-python",
   "name": "python",
   "nbconvert_exporter": "python",
   "pygments_lexer": "ipython2",
   "version": "2.7.12"
  }
 },
 "nbformat": 4,
 "nbformat_minor": 1
}
